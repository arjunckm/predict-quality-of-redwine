{
 "cells": [
  {
   "cell_type": "markdown",
   "metadata": {},
   "source": [
    "## Predict the Quality of Red wine\n"
   ]
  },
  {
   "cell_type": "code",
   "execution_count": 1,
   "metadata": {},
   "outputs": [],
   "source": [
    "import numpy as np\n",
    "import pandas as pd\n",
    "import matplotlib.pyplot as plt\n",
    "import seaborn as sns\n",
    "import os\n",
    "\n",
    "from sklearn.preprocessing import MinMaxScaler\n",
    "\n",
    "import warnings\n",
    "warnings.filterwarnings('ignore')"
   ]
  },
  {
   "cell_type": "code",
   "execution_count": 2,
   "metadata": {},
   "outputs": [
    {
     "data": {
      "text/html": [
       "<div>\n",
       "<style scoped>\n",
       "    .dataframe tbody tr th:only-of-type {\n",
       "        vertical-align: middle;\n",
       "    }\n",
       "\n",
       "    .dataframe tbody tr th {\n",
       "        vertical-align: top;\n",
       "    }\n",
       "\n",
       "    .dataframe thead th {\n",
       "        text-align: right;\n",
       "    }\n",
       "</style>\n",
       "<table border=\"1\" class=\"dataframe\">\n",
       "  <thead>\n",
       "    <tr style=\"text-align: right;\">\n",
       "      <th></th>\n",
       "      <th>id</th>\n",
       "      <th>fixed.acidity</th>\n",
       "      <th>volatile.acidity</th>\n",
       "      <th>citric.acid</th>\n",
       "      <th>residual.sugar</th>\n",
       "      <th>chlorides</th>\n",
       "      <th>free.sulfur.dioxide</th>\n",
       "      <th>total.sulfur.dioxide</th>\n",
       "      <th>density</th>\n",
       "      <th>pH</th>\n",
       "      <th>sulphates</th>\n",
       "      <th>alcohol</th>\n",
       "      <th>quality</th>\n",
       "    </tr>\n",
       "  </thead>\n",
       "  <tbody>\n",
       "    <tr>\n",
       "      <td>0</td>\n",
       "      <td>1</td>\n",
       "      <td>7.4</td>\n",
       "      <td>0.70</td>\n",
       "      <td>0.00</td>\n",
       "      <td>1.9</td>\n",
       "      <td>0.076</td>\n",
       "      <td>11.0</td>\n",
       "      <td>34</td>\n",
       "      <td>0.9978</td>\n",
       "      <td>3.51</td>\n",
       "      <td>0.56</td>\n",
       "      <td>9.4</td>\n",
       "      <td>5</td>\n",
       "    </tr>\n",
       "    <tr>\n",
       "      <td>1</td>\n",
       "      <td>2</td>\n",
       "      <td>7.8</td>\n",
       "      <td>0.88</td>\n",
       "      <td>0.00</td>\n",
       "      <td>2.6</td>\n",
       "      <td>0.098</td>\n",
       "      <td>25.0</td>\n",
       "      <td>67</td>\n",
       "      <td>0.9968</td>\n",
       "      <td>3.20</td>\n",
       "      <td>0.68</td>\n",
       "      <td>9.8</td>\n",
       "      <td>5</td>\n",
       "    </tr>\n",
       "    <tr>\n",
       "      <td>2</td>\n",
       "      <td>3</td>\n",
       "      <td>7.8</td>\n",
       "      <td>0.76</td>\n",
       "      <td>0.04</td>\n",
       "      <td>2.3</td>\n",
       "      <td>0.092</td>\n",
       "      <td>15.0</td>\n",
       "      <td>54</td>\n",
       "      <td>0.9970</td>\n",
       "      <td>3.26</td>\n",
       "      <td>0.65</td>\n",
       "      <td>9.8</td>\n",
       "      <td>5</td>\n",
       "    </tr>\n",
       "    <tr>\n",
       "      <td>3</td>\n",
       "      <td>4</td>\n",
       "      <td>11.2</td>\n",
       "      <td>0.28</td>\n",
       "      <td>0.56</td>\n",
       "      <td>1.9</td>\n",
       "      <td>0.075</td>\n",
       "      <td>17.0</td>\n",
       "      <td>60</td>\n",
       "      <td>0.9980</td>\n",
       "      <td>3.16</td>\n",
       "      <td>0.58</td>\n",
       "      <td>9.8</td>\n",
       "      <td>6</td>\n",
       "    </tr>\n",
       "    <tr>\n",
       "      <td>4</td>\n",
       "      <td>5</td>\n",
       "      <td>7.4</td>\n",
       "      <td>0.70</td>\n",
       "      <td>0.00</td>\n",
       "      <td>1.9</td>\n",
       "      <td>0.076</td>\n",
       "      <td>11.0</td>\n",
       "      <td>34</td>\n",
       "      <td>0.9978</td>\n",
       "      <td>3.51</td>\n",
       "      <td>0.56</td>\n",
       "      <td>9.4</td>\n",
       "      <td>5</td>\n",
       "    </tr>\n",
       "  </tbody>\n",
       "</table>\n",
       "</div>"
      ],
      "text/plain": [
       "   id  fixed.acidity  volatile.acidity  citric.acid  residual.sugar  \\\n",
       "0   1            7.4              0.70         0.00             1.9   \n",
       "1   2            7.8              0.88         0.00             2.6   \n",
       "2   3            7.8              0.76         0.04             2.3   \n",
       "3   4           11.2              0.28         0.56             1.9   \n",
       "4   5            7.4              0.70         0.00             1.9   \n",
       "\n",
       "   chlorides  free.sulfur.dioxide  total.sulfur.dioxide  density    pH  \\\n",
       "0      0.076                 11.0                    34   0.9978  3.51   \n",
       "1      0.098                 25.0                    67   0.9968  3.20   \n",
       "2      0.092                 15.0                    54   0.9970  3.26   \n",
       "3      0.075                 17.0                    60   0.9980  3.16   \n",
       "4      0.076                 11.0                    34   0.9978  3.51   \n",
       "\n",
       "   sulphates  alcohol  quality  \n",
       "0       0.56      9.4        5  \n",
       "1       0.68      9.8        5  \n",
       "2       0.65      9.8        5  \n",
       "3       0.58      9.8        6  \n",
       "4       0.56      9.4        5  "
      ]
     },
     "execution_count": 2,
     "metadata": {},
     "output_type": "execute_result"
    }
   ],
   "source": [
    "train = pd.read_csv(\"train.csv\")\n",
    "test = pd.read_csv(\"test.csv\")\n",
    "train.head()"
   ]
  },
  {
   "cell_type": "code",
   "execution_count": 3,
   "metadata": {},
   "outputs": [
    {
     "name": "stdout",
     "output_type": "stream",
     "text": [
      "<class 'pandas.core.frame.DataFrame'>\n",
      "RangeIndex: 1120 entries, 0 to 1119\n",
      "Data columns (total 13 columns):\n",
      "id                      1120 non-null int64\n",
      "fixed.acidity           1120 non-null float64\n",
      "volatile.acidity        1120 non-null float64\n",
      "citric.acid             1120 non-null float64\n",
      "residual.sugar          1120 non-null float64\n",
      "chlorides               1120 non-null float64\n",
      "free.sulfur.dioxide     1120 non-null float64\n",
      "total.sulfur.dioxide    1120 non-null int64\n",
      "density                 1120 non-null float64\n",
      "pH                      1120 non-null float64\n",
      "sulphates               1120 non-null float64\n",
      "alcohol                 1120 non-null float64\n",
      "quality                 1120 non-null int64\n",
      "dtypes: float64(10), int64(3)\n",
      "memory usage: 113.9 KB\n"
     ]
    }
   ],
   "source": [
    "train.info()"
   ]
  },
  {
   "cell_type": "code",
   "execution_count": 4,
   "metadata": {},
   "outputs": [
    {
     "data": {
      "text/html": [
       "<div>\n",
       "<style scoped>\n",
       "    .dataframe tbody tr th:only-of-type {\n",
       "        vertical-align: middle;\n",
       "    }\n",
       "\n",
       "    .dataframe tbody tr th {\n",
       "        vertical-align: top;\n",
       "    }\n",
       "\n",
       "    .dataframe thead th {\n",
       "        text-align: right;\n",
       "    }\n",
       "</style>\n",
       "<table border=\"1\" class=\"dataframe\">\n",
       "  <thead>\n",
       "    <tr style=\"text-align: right;\">\n",
       "      <th></th>\n",
       "      <th>id</th>\n",
       "      <th>fixed.acidity</th>\n",
       "      <th>volatile.acidity</th>\n",
       "      <th>citric.acid</th>\n",
       "      <th>residual.sugar</th>\n",
       "      <th>chlorides</th>\n",
       "      <th>free.sulfur.dioxide</th>\n",
       "      <th>total.sulfur.dioxide</th>\n",
       "      <th>density</th>\n",
       "      <th>pH</th>\n",
       "      <th>sulphates</th>\n",
       "      <th>alcohol</th>\n",
       "      <th>quality</th>\n",
       "    </tr>\n",
       "  </thead>\n",
       "  <tbody>\n",
       "    <tr>\n",
       "      <td>count</td>\n",
       "      <td>1120.000000</td>\n",
       "      <td>1120.000000</td>\n",
       "      <td>1120.000000</td>\n",
       "      <td>1120.000000</td>\n",
       "      <td>1120.000000</td>\n",
       "      <td>1120.000000</td>\n",
       "      <td>1120.000000</td>\n",
       "      <td>1120.000000</td>\n",
       "      <td>1120.000000</td>\n",
       "      <td>1120.000000</td>\n",
       "      <td>1120.000000</td>\n",
       "      <td>1120.000000</td>\n",
       "      <td>1120.000000</td>\n",
       "    </tr>\n",
       "    <tr>\n",
       "      <td>mean</td>\n",
       "      <td>560.500000</td>\n",
       "      <td>8.675357</td>\n",
       "      <td>0.521772</td>\n",
       "      <td>0.295714</td>\n",
       "      <td>2.579196</td>\n",
       "      <td>0.089700</td>\n",
       "      <td>15.200000</td>\n",
       "      <td>47.150893</td>\n",
       "      <td>0.997163</td>\n",
       "      <td>3.296661</td>\n",
       "      <td>0.665455</td>\n",
       "      <td>10.336518</td>\n",
       "      <td>5.650000</td>\n",
       "    </tr>\n",
       "    <tr>\n",
       "      <td>std</td>\n",
       "      <td>323.460456</td>\n",
       "      <td>1.797024</td>\n",
       "      <td>0.178929</td>\n",
       "      <td>0.198923</td>\n",
       "      <td>1.276932</td>\n",
       "      <td>0.048789</td>\n",
       "      <td>10.083973</td>\n",
       "      <td>34.209149</td>\n",
       "      <td>0.001857</td>\n",
       "      <td>0.156439</td>\n",
       "      <td>0.178187</td>\n",
       "      <td>1.076716</td>\n",
       "      <td>0.810344</td>\n",
       "    </tr>\n",
       "    <tr>\n",
       "      <td>min</td>\n",
       "      <td>1.000000</td>\n",
       "      <td>4.600000</td>\n",
       "      <td>0.120000</td>\n",
       "      <td>0.000000</td>\n",
       "      <td>0.900000</td>\n",
       "      <td>0.012000</td>\n",
       "      <td>1.000000</td>\n",
       "      <td>6.000000</td>\n",
       "      <td>0.990070</td>\n",
       "      <td>2.740000</td>\n",
       "      <td>0.330000</td>\n",
       "      <td>8.400000</td>\n",
       "      <td>3.000000</td>\n",
       "    </tr>\n",
       "    <tr>\n",
       "      <td>25%</td>\n",
       "      <td>280.750000</td>\n",
       "      <td>7.400000</td>\n",
       "      <td>0.390000</td>\n",
       "      <td>0.120000</td>\n",
       "      <td>1.900000</td>\n",
       "      <td>0.072000</td>\n",
       "      <td>7.000000</td>\n",
       "      <td>22.000000</td>\n",
       "      <td>0.996193</td>\n",
       "      <td>3.190000</td>\n",
       "      <td>0.560000</td>\n",
       "      <td>9.500000</td>\n",
       "      <td>5.000000</td>\n",
       "    </tr>\n",
       "    <tr>\n",
       "      <td>50%</td>\n",
       "      <td>560.500000</td>\n",
       "      <td>8.300000</td>\n",
       "      <td>0.510000</td>\n",
       "      <td>0.285000</td>\n",
       "      <td>2.275000</td>\n",
       "      <td>0.081000</td>\n",
       "      <td>13.000000</td>\n",
       "      <td>38.000000</td>\n",
       "      <td>0.997200</td>\n",
       "      <td>3.300000</td>\n",
       "      <td>0.620000</td>\n",
       "      <td>10.000000</td>\n",
       "      <td>6.000000</td>\n",
       "    </tr>\n",
       "    <tr>\n",
       "      <td>75%</td>\n",
       "      <td>840.250000</td>\n",
       "      <td>9.700000</td>\n",
       "      <td>0.630000</td>\n",
       "      <td>0.470000</td>\n",
       "      <td>2.700000</td>\n",
       "      <td>0.092250</td>\n",
       "      <td>21.000000</td>\n",
       "      <td>63.000000</td>\n",
       "      <td>0.998200</td>\n",
       "      <td>3.390000</td>\n",
       "      <td>0.730000</td>\n",
       "      <td>11.000000</td>\n",
       "      <td>6.000000</td>\n",
       "    </tr>\n",
       "    <tr>\n",
       "      <td>max</td>\n",
       "      <td>1120.000000</td>\n",
       "      <td>15.900000</td>\n",
       "      <td>1.330000</td>\n",
       "      <td>1.000000</td>\n",
       "      <td>15.500000</td>\n",
       "      <td>0.611000</td>\n",
       "      <td>68.000000</td>\n",
       "      <td>289.000000</td>\n",
       "      <td>1.003200</td>\n",
       "      <td>3.900000</td>\n",
       "      <td>2.000000</td>\n",
       "      <td>14.900000</td>\n",
       "      <td>8.000000</td>\n",
       "    </tr>\n",
       "  </tbody>\n",
       "</table>\n",
       "</div>"
      ],
      "text/plain": [
       "                id  fixed.acidity  volatile.acidity  citric.acid  \\\n",
       "count  1120.000000    1120.000000       1120.000000  1120.000000   \n",
       "mean    560.500000       8.675357          0.521772     0.295714   \n",
       "std     323.460456       1.797024          0.178929     0.198923   \n",
       "min       1.000000       4.600000          0.120000     0.000000   \n",
       "25%     280.750000       7.400000          0.390000     0.120000   \n",
       "50%     560.500000       8.300000          0.510000     0.285000   \n",
       "75%     840.250000       9.700000          0.630000     0.470000   \n",
       "max    1120.000000      15.900000          1.330000     1.000000   \n",
       "\n",
       "       residual.sugar    chlorides  free.sulfur.dioxide  total.sulfur.dioxide  \\\n",
       "count     1120.000000  1120.000000          1120.000000           1120.000000   \n",
       "mean         2.579196     0.089700            15.200000             47.150893   \n",
       "std          1.276932     0.048789            10.083973             34.209149   \n",
       "min          0.900000     0.012000             1.000000              6.000000   \n",
       "25%          1.900000     0.072000             7.000000             22.000000   \n",
       "50%          2.275000     0.081000            13.000000             38.000000   \n",
       "75%          2.700000     0.092250            21.000000             63.000000   \n",
       "max         15.500000     0.611000            68.000000            289.000000   \n",
       "\n",
       "           density           pH    sulphates      alcohol      quality  \n",
       "count  1120.000000  1120.000000  1120.000000  1120.000000  1120.000000  \n",
       "mean      0.997163     3.296661     0.665455    10.336518     5.650000  \n",
       "std       0.001857     0.156439     0.178187     1.076716     0.810344  \n",
       "min       0.990070     2.740000     0.330000     8.400000     3.000000  \n",
       "25%       0.996193     3.190000     0.560000     9.500000     5.000000  \n",
       "50%       0.997200     3.300000     0.620000    10.000000     6.000000  \n",
       "75%       0.998200     3.390000     0.730000    11.000000     6.000000  \n",
       "max       1.003200     3.900000     2.000000    14.900000     8.000000  "
      ]
     },
     "execution_count": 4,
     "metadata": {},
     "output_type": "execute_result"
    }
   ],
   "source": [
    "train.describe()"
   ]
  },
  {
   "cell_type": "code",
   "execution_count": 5,
   "metadata": {},
   "outputs": [
    {
     "data": {
      "text/plain": [
       "Index(['id', 'fixed_acidity', 'volatile_acidity', 'citric_acid',\n",
       "       'residual_sugar', 'chlorides', 'free_sulfur_dioxide',\n",
       "       'total_sulfur_dioxide', 'density', 'pH', 'sulphates', 'alcohol',\n",
       "       'quality'],\n",
       "      dtype='object')"
      ]
     },
     "execution_count": 5,
     "metadata": {},
     "output_type": "execute_result"
    }
   ],
   "source": [
    "columns = list(train.columns)\n",
    "new_name = []\n",
    "for col in columns:\n",
    "    new_name.append(col.replace('.', '_'))\n",
    "train.columns = new_name\n",
    "train.columns"
   ]
  },
  {
   "cell_type": "markdown",
   "metadata": {},
   "source": [
    "### Distribution of Target Attribute"
   ]
  },
  {
   "cell_type": "code",
   "execution_count": 6,
   "metadata": {},
   "outputs": [
    {
     "data": {
      "text/html": [
       "<div>\n",
       "<style scoped>\n",
       "    .dataframe tbody tr th:only-of-type {\n",
       "        vertical-align: middle;\n",
       "    }\n",
       "\n",
       "    .dataframe tbody tr th {\n",
       "        vertical-align: top;\n",
       "    }\n",
       "\n",
       "    .dataframe thead th {\n",
       "        text-align: right;\n",
       "    }\n",
       "</style>\n",
       "<table border=\"1\" class=\"dataframe\">\n",
       "  <thead>\n",
       "    <tr style=\"text-align: right;\">\n",
       "      <th></th>\n",
       "      <th>Quality</th>\n",
       "      <th>total_Frequency</th>\n",
       "    </tr>\n",
       "  </thead>\n",
       "  <tbody>\n",
       "    <tr>\n",
       "      <td>5</td>\n",
       "      <td>5</td>\n",
       "      <td>494</td>\n",
       "    </tr>\n",
       "    <tr>\n",
       "      <td>6</td>\n",
       "      <td>6</td>\n",
       "      <td>420</td>\n",
       "    </tr>\n",
       "    <tr>\n",
       "      <td>7</td>\n",
       "      <td>7</td>\n",
       "      <td>157</td>\n",
       "    </tr>\n",
       "    <tr>\n",
       "      <td>4</td>\n",
       "      <td>4</td>\n",
       "      <td>32</td>\n",
       "    </tr>\n",
       "    <tr>\n",
       "      <td>8</td>\n",
       "      <td>8</td>\n",
       "      <td>12</td>\n",
       "    </tr>\n",
       "    <tr>\n",
       "      <td>3</td>\n",
       "      <td>3</td>\n",
       "      <td>5</td>\n",
       "    </tr>\n",
       "  </tbody>\n",
       "</table>\n",
       "</div>"
      ],
      "text/plain": [
       "   Quality  total_Frequency\n",
       "5        5              494\n",
       "6        6              420\n",
       "7        7              157\n",
       "4        4               32\n",
       "8        8               12\n",
       "3        3                5"
      ]
     },
     "execution_count": 6,
     "metadata": {},
     "output_type": "execute_result"
    }
   ],
   "source": [
    "totalquality_Count = train['quality'].value_counts()\n",
    "qt_counts = pd.DataFrame({'Quality': list(totalquality_Count.index), 'total_Frequency': totalquality_Count})\n",
    "qt_counts"
   ]
  },
  {
   "cell_type": "code",
   "execution_count": 7,
   "metadata": {},
   "outputs": [
    {
     "data": {
      "image/png": "[encoded data removed]",
      "text/plain": [
       "<Figure size 720x288 with 1 Axes>"
      ]
     },
     "metadata": {
      "needs_background": "light"
     },
     "output_type": "display_data"
    }
   ],
   "source": [
    "plt.figure(figsize=(10,4))\n",
    "pty = sns.barplot(x='Quality', y='total_Frequency', data=qt_counts, capsize=0.3, palette=\"hls\")\n",
    "pty.set_title(\"Quality Frequency\")\n",
    "pty.set_yticks([0,100,200,300,400,500,600])\n",
    "for val in pty.patches:\n",
    "    pty.annotate(np.round(val.get_height(),decimals=2), \n",
    "                (val.get_x()+val.get_width()/2, val.get_height()), \n",
    "                xytext=(0, 10), \n",
    "                textcoords='offset points')\n"
   ]
  },
  {
   "cell_type": "markdown",
   "metadata": {},
   "source": [
    "##### Analysis\n",
    "Based on above data\n",
    "<ul>\n",
    "    <li>Quality ranges from 3 - 8 </li>    \n",
    "    <li>There is too much variation in data, where 5 and 6 has most no. of data point and 3 and 8 has very less. </li>\n",
    "</ul>"
   ]
  },
  {
   "cell_type": "code",
   "execution_count": 8,
   "metadata": {},
   "outputs": [
    {
     "data": {
      "text/plain": [
       "Index(['fixed_acidity', 'volatile_acidity', 'citric_acid', 'residual_sugar',\n",
       "       'chlorides', 'free_sulfur_dioxide', 'total_sulfur_dioxide', 'density',\n",
       "       'pH', 'sulphates', 'alcohol', 'quality'],\n",
       "      dtype='object')"
      ]
     },
     "execution_count": 8,
     "metadata": {},
     "output_type": "execute_result"
    }
   ],
   "source": [
    "#Droping irrerelavent data.\n",
    "train1 = train.drop([\"id\"],axis=1)\n",
    "testIds=test[\"id\"];\n",
    "test1 = test.drop([\"id\"],axis=1)\n",
    "train1.columns"
   ]
  },
  {
   "cell_type": "markdown",
   "metadata": {},
   "source": [
    "### Distribution of attributes in Heatmap"
   ]
  },
  {
   "cell_type": "code",
   "execution_count": 9,
   "metadata": {},
   "outputs": [
    {
     "data": {
      "text/plain": [
       "<matplotlib.axes._subplots.AxesSubplot at 0x1b9cdb7dbc8>"
      ]
     },
     "execution_count": 9,
     "metadata": {},
     "output_type": "execute_result"
    },
    {
     "data": {
      "image/png": "[encoded data removed]",
      "text/plain": [
       "<Figure size 1080x720 with 2 Axes>"
      ]
     },
     "metadata": {
      "needs_background": "light"
     },
     "output_type": "display_data"
    }
   ],
   "source": [
    "plt.subplots(figsize=(15,10))\n",
    "sns.heatmap(train1.corr(),annot=True)"
   ]
  },
  {
   "cell_type": "markdown",
   "metadata": {},
   "source": [
    "### Distribution of target variable"
   ]
  },
  {
   "cell_type": "code",
   "execution_count": 10,
   "metadata": {},
   "outputs": [
    {
     "data": {
      "text/plain": [
       "<matplotlib.axes._subplots.AxesSubplot at 0x1b9ce16cac8>"
      ]
     },
     "execution_count": 10,
     "metadata": {},
     "output_type": "execute_result"
    },
    {
     "data": {
      "image/png": "[encoded data removed]",
      "text/plain": [
       "<Figure size 432x288 with 1 Axes>"
      ]
     },
     "metadata": {
      "needs_background": "light"
     },
     "output_type": "display_data"
    }
   ],
   "source": [
    "sns.boxplot(data=train1['quality'], palette=\"hls\")"
   ]
  },
  {
   "cell_type": "markdown",
   "metadata": {},
   "source": [
    "#### Preprocess data"
   ]
  },
  {
   "cell_type": "code",
   "execution_count": 11,
   "metadata": {},
   "outputs": [
    {
     "data": {
      "text/plain": [
       "(array([ 0,  1,  2,  3,  4,  5,  6,  7,  8,  9, 10]),\n",
       " <a list of 11 Text xticklabel objects>)"
      ]
     },
     "execution_count": 11,
     "metadata": {},
     "output_type": "execute_result"
    },
    {
     "data": {
      "image/png": "[encoded data removed]",
      "text/plain": [
       "<Figure size 720x360 with 1 Axes>"
      ]
     },
     "metadata": {
      "needs_background": "light"
     },
     "output_type": "display_data"
    }
   ],
   "source": [
    "plt.figure(figsize=(10,5))\n",
    "sns.boxplot(data=train1.drop(columns=['quality']), palette='hls')\n",
    "plt.xticks(rotation=45)"
   ]
  },
  {
   "cell_type": "markdown",
   "metadata": {},
   "source": [
    "#### Analysis:\n",
    "<ul>\n",
    "    <li>By observing the boxplot, range of each features is different.</li>  \n",
    "    <li>lets try normalizing the data</li>\n",
    "</ul>\n",
    "\n"
   ]
  },
  {
   "cell_type": "markdown",
   "metadata": {},
   "source": [
    "#### Normalization of features"
   ]
  },
  {
   "cell_type": "code",
   "execution_count": 12,
   "metadata": {},
   "outputs": [],
   "source": [
    "\n",
    "y = train1['quality']\n",
    "train1 = train1.loc[:, ~train1.columns.isin(['quality'])]\n",
    "\n",
    "scaler = MinMaxScaler()\n",
    "scaled_values = scaler.fit_transform(train1)\n",
    "train1.loc[:,:] = scaled_values\n",
    "\n",
    "train1['quality'] = y"
   ]
  },
  {
   "cell_type": "markdown",
   "metadata": {},
   "source": [
    "### Distribution of features after normalizing the data."
   ]
  },
  {
   "cell_type": "code",
   "execution_count": 13,
   "metadata": {},
   "outputs": [
    {
     "data": {
      "text/html": [
       "<div>\n",
       "<style scoped>\n",
       "    .dataframe tbody tr th:only-of-type {\n",
       "        vertical-align: middle;\n",
       "    }\n",
       "\n",
       "    .dataframe tbody tr th {\n",
       "        vertical-align: top;\n",
       "    }\n",
       "\n",
       "    .dataframe thead th {\n",
       "        text-align: right;\n",
       "    }\n",
       "</style>\n",
       "<table border=\"1\" class=\"dataframe\">\n",
       "  <thead>\n",
       "    <tr style=\"text-align: right;\">\n",
       "      <th></th>\n",
       "      <th>fixed_acidity</th>\n",
       "      <th>volatile_acidity</th>\n",
       "      <th>citric_acid</th>\n",
       "      <th>residual_sugar</th>\n",
       "      <th>chlorides</th>\n",
       "      <th>free_sulfur_dioxide</th>\n",
       "      <th>total_sulfur_dioxide</th>\n",
       "      <th>density</th>\n",
       "      <th>pH</th>\n",
       "      <th>sulphates</th>\n",
       "      <th>alcohol</th>\n",
       "      <th>quality</th>\n",
       "    </tr>\n",
       "  </thead>\n",
       "  <tbody>\n",
       "    <tr>\n",
       "      <td>0</td>\n",
       "      <td>0.247788</td>\n",
       "      <td>0.479339</td>\n",
       "      <td>0.00</td>\n",
       "      <td>0.068493</td>\n",
       "      <td>0.106845</td>\n",
       "      <td>0.149254</td>\n",
       "      <td>0.098940</td>\n",
       "      <td>0.588728</td>\n",
       "      <td>0.663793</td>\n",
       "      <td>0.137725</td>\n",
       "      <td>0.153846</td>\n",
       "      <td>5</td>\n",
       "    </tr>\n",
       "    <tr>\n",
       "      <td>1</td>\n",
       "      <td>0.283186</td>\n",
       "      <td>0.628099</td>\n",
       "      <td>0.00</td>\n",
       "      <td>0.116438</td>\n",
       "      <td>0.143573</td>\n",
       "      <td>0.358209</td>\n",
       "      <td>0.215548</td>\n",
       "      <td>0.512567</td>\n",
       "      <td>0.396552</td>\n",
       "      <td>0.209581</td>\n",
       "      <td>0.215385</td>\n",
       "      <td>5</td>\n",
       "    </tr>\n",
       "    <tr>\n",
       "      <td>2</td>\n",
       "      <td>0.283186</td>\n",
       "      <td>0.528926</td>\n",
       "      <td>0.04</td>\n",
       "      <td>0.095890</td>\n",
       "      <td>0.133556</td>\n",
       "      <td>0.208955</td>\n",
       "      <td>0.169611</td>\n",
       "      <td>0.527799</td>\n",
       "      <td>0.448276</td>\n",
       "      <td>0.191617</td>\n",
       "      <td>0.215385</td>\n",
       "      <td>5</td>\n",
       "    </tr>\n",
       "    <tr>\n",
       "      <td>3</td>\n",
       "      <td>0.584071</td>\n",
       "      <td>0.132231</td>\n",
       "      <td>0.56</td>\n",
       "      <td>0.068493</td>\n",
       "      <td>0.105175</td>\n",
       "      <td>0.238806</td>\n",
       "      <td>0.190813</td>\n",
       "      <td>0.603960</td>\n",
       "      <td>0.362069</td>\n",
       "      <td>0.149701</td>\n",
       "      <td>0.215385</td>\n",
       "      <td>6</td>\n",
       "    </tr>\n",
       "    <tr>\n",
       "      <td>4</td>\n",
       "      <td>0.247788</td>\n",
       "      <td>0.479339</td>\n",
       "      <td>0.00</td>\n",
       "      <td>0.068493</td>\n",
       "      <td>0.106845</td>\n",
       "      <td>0.149254</td>\n",
       "      <td>0.098940</td>\n",
       "      <td>0.588728</td>\n",
       "      <td>0.663793</td>\n",
       "      <td>0.137725</td>\n",
       "      <td>0.153846</td>\n",
       "      <td>5</td>\n",
       "    </tr>\n",
       "  </tbody>\n",
       "</table>\n",
       "</div>"
      ],
      "text/plain": [
       "   fixed_acidity  volatile_acidity  citric_acid  residual_sugar  chlorides  \\\n",
       "0       0.247788          0.479339         0.00        0.068493   0.106845   \n",
       "1       0.283186          0.628099         0.00        0.116438   0.143573   \n",
       "2       0.283186          0.528926         0.04        0.095890   0.133556   \n",
       "3       0.584071          0.132231         0.56        0.068493   0.105175   \n",
       "4       0.247788          0.479339         0.00        0.068493   0.106845   \n",
       "\n",
       "   free_sulfur_dioxide  total_sulfur_dioxide   density        pH  sulphates  \\\n",
       "0             0.149254              0.098940  0.588728  0.663793   0.137725   \n",
       "1             0.358209              0.215548  0.512567  0.396552   0.209581   \n",
       "2             0.208955              0.169611  0.527799  0.448276   0.191617   \n",
       "3             0.238806              0.190813  0.603960  0.362069   0.149701   \n",
       "4             0.149254              0.098940  0.588728  0.663793   0.137725   \n",
       "\n",
       "    alcohol  quality  \n",
       "0  0.153846        5  \n",
       "1  0.215385        5  \n",
       "2  0.215385        5  \n",
       "3  0.215385        6  \n",
       "4  0.153846        5  "
      ]
     },
     "execution_count": 13,
     "metadata": {},
     "output_type": "execute_result"
    }
   ],
   "source": [
    "train1.head()"
   ]
  },
  {
   "cell_type": "code",
   "execution_count": 14,
   "metadata": {},
   "outputs": [
    {
     "data": {
      "text/plain": [
       "(array([ 0,  1,  2,  3,  4,  5,  6,  7,  8,  9, 10]),\n",
       " <a list of 11 Text xticklabel objects>)"
      ]
     },
     "execution_count": 14,
     "metadata": {},
     "output_type": "execute_result"
    },
    {
     "data": {
      "image/png": "[encoded data removed]",
      "text/plain": [
       "<Figure size 720x360 with 1 Axes>"
      ]
     },
     "metadata": {
      "needs_background": "light"
     },
     "output_type": "display_data"
    }
   ],
   "source": [
    "plt.figure(figsize=(10,5))\n",
    "sns.boxplot(data=train1.drop(columns=['quality']), palette='hls')\n",
    "plt.xticks(rotation=45)"
   ]
  },
  {
   "cell_type": "markdown",
   "metadata": {},
   "source": [
    "#### Analysis\n",
    "This looks good and can understand the data."
   ]
  },
  {
   "cell_type": "markdown",
   "metadata": {},
   "source": [
    "### Data Visualization after Normalization"
   ]
  },
  {
   "cell_type": "code",
   "execution_count": 15,
   "metadata": {},
   "outputs": [
    {
     "data": {
      "text/plain": [
       "<matplotlib.axes._subplots.AxesSubplot at 0x1b9cdfa7c48>"
      ]
     },
     "execution_count": 15,
     "metadata": {},
     "output_type": "execute_result"
    },
    {
     "data": {
      "image/png": "[encoded data removed]",
      "text/plain": [
       "<Figure size 720x576 with 2 Axes>"
      ]
     },
     "metadata": {
      "needs_background": "light"
     },
     "output_type": "display_data"
    }
   ],
   "source": [
    "#Correlation between features\n",
    "\n",
    "cor_fre = train1.corr().abs()\n",
    "plt.figure(figsize=(10,8))\n",
    "sns.heatmap(cor_fre, annot=True, cmap='coolwarm')"
   ]
  },
  {
   "cell_type": "markdown",
   "metadata": {},
   "source": [
    "#### Analysis\n",
    "<ul>\n",
    "    <li>\"Total sulfulr dioxide\" and \"free sulfur dioxide\" has correlation of 0.69 b/w them</li>    \n",
    "    <li>\"pH\" and \"fixed acidity\" | \"citric acid\" and \"fixed acidity\" both has correlation of 0.68 b/w them</li>\n",
    "    <li>These features has high correlation which is >0.5</li>\n",
    "\n",
    "</ul>"
   ]
  },
  {
   "cell_type": "code",
   "execution_count": 16,
   "metadata": {},
   "outputs": [
    {
     "data": {
      "text/plain": [
       "<matplotlib.axes._subplots.AxesSubplot at 0x1b9ce9859c8>"
      ]
     },
     "execution_count": 16,
     "metadata": {},
     "output_type": "execute_result"
    },
    {
     "data": {
      "image/png": "[encoded data removed]",
      "text/plain": [
       "<Figure size 1080x576 with 12 Axes>"
      ]
     },
     "metadata": {
      "needs_background": "light"
     },
     "output_type": "display_data"
    }
   ],
   "source": [
    "import random as rdm\n",
    "\n",
    "fig, axes = plt.subplots(4, 3, figsize=(15, 8), sharex=True)\n",
    "colr=[\"teal\",\"olive\",\"gold\",\"red\", \"skyblue\"]\n",
    "sns.distplot(train1[\"fixed_acidity\"], rug=False, color=rdm.choice(colr), ax=axes[0, 0])\n",
    "sns.distplot(train1[\"volatile_acidity\"], rug=False, color=rdm.choice(colr), ax=axes[0, 1])\n",
    "sns.distplot(train1[\"citric_acid\"], rug=False, color=rdm.choice(colr), ax=axes[0, 2])\n",
    "sns.distplot(train1[\"residual_sugar\"], rug=False, color=rdm.choice(colr), ax=axes[1, 0])\n",
    "sns.distplot(train1[\"chlorides\"], rug=False, color=rdm.choice(colr), ax=axes[1, 1])\n",
    "sns.distplot(train1[\"free_sulfur_dioxide\"], rug=False, color=rdm.choice(colr), ax=axes[1, 2])\n",
    "sns.distplot(train1[\"total_sulfur_dioxide\"], rug=False, color=rdm.choice(colr), ax=axes[2, 0])\n",
    "sns.distplot(train1[\"density\"], rug=False, color=rdm.choice(colr), ax=axes[2, 1])\n",
    "sns.distplot(train1[\"pH\"], rug=False, color=rdm.choice(colr), ax=axes[2, 2])\n",
    "sns.distplot(train1[\"sulphates\"], rug=False, color=rdm.choice(colr), ax=axes[3, 0])\n",
    "sns.distplot(train1[\"alcohol\"], rug=False,color=rdm.choice(colr), ax=axes[3, 1])\n",
    "# i=0;\n",
    "# j=0;\n",
    "# for indx, val in enumerate(list(train1.columns)):\n",
    "#     print(val)\n",
    "#     if j==3:\n",
    "#         j=0\n",
    "#     sns.distplot(train1[val], rug=False, color=rdm.choice(colr), ax=axes[i, j])\n",
    "#     if indx <= 2 :\n",
    "#         j+=1;\n",
    "        \n",
    "#     if indx > 2 :\n",
    "#         if j==0:\n",
    "#             i+=1\n",
    "#         j+=1\n",
    "\n",
    "    "
   ]
  },
  {
   "cell_type": "markdown",
   "metadata": {},
   "source": [
    "Analysis\n",
    "\n",
    "Here all features are following normal distribution.\n",
    "\n",
    "except some fluctuation in citric acid and volatile acidity"
   ]
  },
  {
   "cell_type": "code",
   "execution_count": 17,
   "metadata": {},
   "outputs": [],
   "source": [
    "#sns.pairplot(train1, diag_kind='kde', palette='husl', hue='quality')"
   ]
  },
  {
   "cell_type": "markdown",
   "metadata": {},
   "source": [
    "### Model Building "
   ]
  },
  {
   "cell_type": "markdown",
   "metadata": {},
   "source": [
    "## Logistic Regression"
   ]
  },
  {
   "cell_type": "code",
   "execution_count": 18,
   "metadata": {},
   "outputs": [],
   "source": [
    "from sklearn.linear_model import LogisticRegression\n",
    "from sklearn.model_selection import train_test_split\n",
    "from sklearn.metrics import classification_report\n",
    "from sklearn.metrics import confusion_matrix\n",
    "from sklearn.metrics import f1_score\n",
    "from sklearn.model_selection import cross_val_score\n",
    "from sklearn.metrics import roc_auc_score\n",
    "import statsmodels.api as sm\n",
    "from sklearn.metrics import accuracy_score"
   ]
  },
  {
   "cell_type": "code",
   "execution_count": 19,
   "metadata": {},
   "outputs": [],
   "source": [
    "X = train1.drop( \"quality\",axis=1)\n",
    "y = train1[\"quality\"]"
   ]
  },
  {
   "cell_type": "code",
   "execution_count": 20,
   "metadata": {},
   "outputs": [
    {
     "data": {
      "text/plain": [
       "LogisticRegression(C=1.0, class_weight='balanced', dual=False,\n",
       "                   fit_intercept=True, intercept_scaling=1, l1_ratio=None,\n",
       "                   max_iter=100, multi_class='warn', n_jobs=None, penalty='l2',\n",
       "                   random_state=101, solver='warn', tol=0.0001, verbose=0,\n",
       "                   warm_start=False)"
      ]
     },
     "execution_count": 20,
     "metadata": {},
     "output_type": "execute_result"
    }
   ],
   "source": [
    "X_train, X_test, y_train, y_test = train_test_split(X, y, train_size=.7, random_state=50)\n",
    "\n",
    "lr = LogisticRegression(random_state = 101,class_weight='balanced')\n",
    "lr.fit(X_train,y_train)"
   ]
  },
  {
   "cell_type": "code",
   "execution_count": 21,
   "metadata": {},
   "outputs": [
    {
     "name": "stdout",
     "output_type": "stream",
     "text": [
      "F1 Score : 0.5099157870140095\n",
      "Report:\n",
      "               precision    recall  f1-score   support\n",
      "\n",
      "           3       0.00      0.00      0.00         2\n",
      "           4       0.00      0.00      0.00        10\n",
      "           5       0.62      0.71      0.66       142\n",
      "           6       0.52      0.35      0.42       127\n",
      "           7       0.47      0.49      0.48        53\n",
      "           8       0.00      0.00      0.00         2\n",
      "\n",
      "    accuracy                           0.51       336\n",
      "   macro avg       0.27      0.26      0.26       336\n",
      "weighted avg       0.53      0.51      0.51       336\n",
      "\n",
      "accuracyscore:  0.5119047619047619\n"
     ]
    }
   ],
   "source": [
    "y_pred = lr.predict(X_test)\n",
    "\n",
    "print(\"F1 Score :\",f1_score(y_pred,y_test,average = \"weighted\"))\n",
    "print('Report:\\n',classification_report(y_test, y_pred))\n",
    "print('accuracyscore: ',accuracy_score(y_test, y_pred))"
   ]
  },
  {
   "cell_type": "code",
   "execution_count": 22,
   "metadata": {},
   "outputs": [],
   "source": [
    "# Confusion matrix\n",
    "cn_matr=confusion_matrix(y_test, y_pred);\n",
    "\n",
    "# df_cm = pd.DataFrame(cn_matr, range(6), range(6))\n",
    "# plt.figure(figsize=(8,6))\n",
    "# sns.set(font_scale=1.4)\n",
    "# sns.heatmap(df_cm, annot=True, annot_kws={\"size\": 18}) \n",
    "# print(cn_matr)\n",
    "# plt.show()"
   ]
  },
  {
   "cell_type": "code",
   "execution_count": 23,
   "metadata": {},
   "outputs": [
    {
     "data": {
      "text/html": [
       "<div>\n",
       "<style scoped>\n",
       "    .dataframe tbody tr th:only-of-type {\n",
       "        vertical-align: middle;\n",
       "    }\n",
       "\n",
       "    .dataframe tbody tr th {\n",
       "        vertical-align: top;\n",
       "    }\n",
       "\n",
       "    .dataframe thead th {\n",
       "        text-align: right;\n",
       "    }\n",
       "</style>\n",
       "<table border=\"1\" class=\"dataframe\">\n",
       "  <thead>\n",
       "    <tr style=\"text-align: right;\">\n",
       "      <th></th>\n",
       "      <th>id</th>\n",
       "      <th>quality</th>\n",
       "    </tr>\n",
       "  </thead>\n",
       "  <tbody>\n",
       "    <tr>\n",
       "      <td>0</td>\n",
       "      <td>1121</td>\n",
       "      <td>7</td>\n",
       "    </tr>\n",
       "    <tr>\n",
       "      <td>1</td>\n",
       "      <td>1122</td>\n",
       "      <td>5</td>\n",
       "    </tr>\n",
       "    <tr>\n",
       "      <td>2</td>\n",
       "      <td>1123</td>\n",
       "      <td>5</td>\n",
       "    </tr>\n",
       "    <tr>\n",
       "      <td>3</td>\n",
       "      <td>1124</td>\n",
       "      <td>5</td>\n",
       "    </tr>\n",
       "    <tr>\n",
       "      <td>4</td>\n",
       "      <td>1125</td>\n",
       "      <td>7</td>\n",
       "    </tr>\n",
       "  </tbody>\n",
       "</table>\n",
       "</div>"
      ],
      "text/plain": [
       "     id  quality\n",
       "0  1121        7\n",
       "1  1122        5\n",
       "2  1123        5\n",
       "3  1124        5\n",
       "4  1125        7"
      ]
     },
     "execution_count": 23,
     "metadata": {},
     "output_type": "execute_result"
    }
   ],
   "source": [
    "\n",
    "lr_test = lr.predict(test1)\n",
    "\n",
    "lr_pred = pd.DataFrame(columns=[\"id\",'quality'])\n",
    "lr_pred['id']= testIds\n",
    "lr_pred['quality']= lr_test\n",
    "\n",
    "lr_pred.head()\n"
   ]
  },
  {
   "cell_type": "code",
   "execution_count": 24,
   "metadata": {},
   "outputs": [
    {
     "data": {
      "text/html": [
       "<div>\n",
       "<style scoped>\n",
       "    .dataframe tbody tr th:only-of-type {\n",
       "        vertical-align: middle;\n",
       "    }\n",
       "\n",
       "    .dataframe tbody tr th {\n",
       "        vertical-align: top;\n",
       "    }\n",
       "\n",
       "    .dataframe thead th {\n",
       "        text-align: right;\n",
       "    }\n",
       "</style>\n",
       "<table border=\"1\" class=\"dataframe\">\n",
       "  <thead>\n",
       "    <tr style=\"text-align: right;\">\n",
       "      <th></th>\n",
       "      <th>Quality</th>\n",
       "      <th>total_Frequency</th>\n",
       "    </tr>\n",
       "  </thead>\n",
       "  <tbody>\n",
       "    <tr>\n",
       "      <td>5</td>\n",
       "      <td>5</td>\n",
       "      <td>347</td>\n",
       "    </tr>\n",
       "    <tr>\n",
       "      <td>7</td>\n",
       "      <td>7</td>\n",
       "      <td>122</td>\n",
       "    </tr>\n",
       "    <tr>\n",
       "      <td>8</td>\n",
       "      <td>8</td>\n",
       "      <td>10</td>\n",
       "    </tr>\n",
       "  </tbody>\n",
       "</table>\n",
       "</div>"
      ],
      "text/plain": [
       "   Quality  total_Frequency\n",
       "5        5              347\n",
       "7        7              122\n",
       "8        8               10"
      ]
     },
     "execution_count": 24,
     "metadata": {},
     "output_type": "execute_result"
    }
   ],
   "source": [
    "# after train\n",
    "lr_qt_count = lr_pred['quality'].value_counts()\n",
    "qt_counts = pd.DataFrame({'Quality': list(lr_qt_count.index), 'total_Frequency': lr_qt_count})\n",
    "qt_counts\n"
   ]
  },
  {
   "cell_type": "code",
   "execution_count": 25,
   "metadata": {},
   "outputs": [
    {
     "data": {
      "text/html": [
       "<a href='lr_final.csv' target='_blank'>lr_final.csv</a><br>"
      ],
      "text/plain": [
       "D:\\learn\\Data Science\\project\\Final Capstone Project\\Predict the quality of Red Wine\\my-project\\lr_final.csv"
      ]
     },
     "execution_count": 25,
     "metadata": {},
     "output_type": "execute_result"
    }
   ],
   "source": [
    "lr_pred.to_csv('lr_final.csv',index=False)\n",
    "from IPython.display import FileLink\n",
    "FileLink(r'lr_final.csv')"
   ]
  },
  {
   "cell_type": "markdown",
   "metadata": {},
   "source": [
    "## Decision Tree Classifier"
   ]
  },
  {
   "cell_type": "code",
   "execution_count": 26,
   "metadata": {},
   "outputs": [],
   "source": [
    "from sklearn.tree import DecisionTreeClassifier"
   ]
  },
  {
   "cell_type": "code",
   "execution_count": 27,
   "metadata": {},
   "outputs": [],
   "source": [
    "dtc = DecisionTreeClassifier(random_state = 101,class_weight='balanced')\n",
    "\n",
    "dtc = dtc.fit(X_train,y_train)\n",
    "\n",
    "y_pred = dtc.predict(X_test)"
   ]
  },
  {
   "cell_type": "code",
   "execution_count": 28,
   "metadata": {},
   "outputs": [
    {
     "name": "stdout",
     "output_type": "stream",
     "text": [
      "F1 Score : 0.5793100637296534\n",
      "Report: \n",
      "               precision    recall  f1-score   support\n",
      "\n",
      "           3       0.00      0.00      0.00         2\n",
      "           4       0.17      0.20      0.18        10\n",
      "           5       0.66      0.65      0.65       142\n",
      "           6       0.55      0.61      0.58       127\n",
      "           7       0.60      0.45      0.52        53\n",
      "           8       0.00      0.00      0.00         2\n",
      "\n",
      "    accuracy                           0.58       336\n",
      "   macro avg       0.33      0.32      0.32       336\n",
      "weighted avg       0.59      0.58      0.58       336\n",
      "\n",
      "accuracyscore:  0.5803571428571429\n"
     ]
    }
   ],
   "source": [
    "print(\"F1 Score :\",f1_score(y_pred,y_test,average = \"weighted\"))\n",
    "print('Report: \\n',classification_report(y_test, y_pred))\n",
    "print('accuracyscore: ',accuracy_score(y_test, y_pred))"
   ]
  },
  {
   "cell_type": "code",
   "execution_count": 29,
   "metadata": {},
   "outputs": [
    {
     "data": {
      "text/plain": [
       "array([[ 0,  0,  1,  1,  0,  0],\n",
       "       [ 0,  2,  5,  2,  1,  0],\n",
       "       [ 2,  7, 92, 38,  3,  0],\n",
       "       [ 0,  3, 34, 77, 12,  1],\n",
       "       [ 0,  0,  8, 19, 24,  2],\n",
       "       [ 0,  0,  0,  2,  0,  0]], dtype=int64)"
      ]
     },
     "execution_count": 29,
     "metadata": {},
     "output_type": "execute_result"
    }
   ],
   "source": [
    "confusion_matrix(y_test, y_pred)"
   ]
  },
  {
   "cell_type": "code",
   "execution_count": 30,
   "metadata": {},
   "outputs": [
    {
     "data": {
      "text/html": [
       "<div>\n",
       "<style scoped>\n",
       "    .dataframe tbody tr th:only-of-type {\n",
       "        vertical-align: middle;\n",
       "    }\n",
       "\n",
       "    .dataframe tbody tr th {\n",
       "        vertical-align: top;\n",
       "    }\n",
       "\n",
       "    .dataframe thead th {\n",
       "        text-align: right;\n",
       "    }\n",
       "</style>\n",
       "<table border=\"1\" class=\"dataframe\">\n",
       "  <thead>\n",
       "    <tr style=\"text-align: right;\">\n",
       "      <th></th>\n",
       "      <th>id</th>\n",
       "      <th>quality</th>\n",
       "    </tr>\n",
       "  </thead>\n",
       "  <tbody>\n",
       "    <tr>\n",
       "      <td>0</td>\n",
       "      <td>1121</td>\n",
       "      <td>6</td>\n",
       "    </tr>\n",
       "    <tr>\n",
       "      <td>1</td>\n",
       "      <td>1122</td>\n",
       "      <td>7</td>\n",
       "    </tr>\n",
       "    <tr>\n",
       "      <td>2</td>\n",
       "      <td>1123</td>\n",
       "      <td>7</td>\n",
       "    </tr>\n",
       "    <tr>\n",
       "      <td>3</td>\n",
       "      <td>1124</td>\n",
       "      <td>6</td>\n",
       "    </tr>\n",
       "    <tr>\n",
       "      <td>4</td>\n",
       "      <td>1125</td>\n",
       "      <td>7</td>\n",
       "    </tr>\n",
       "    <tr>\n",
       "      <td>...</td>\n",
       "      <td>...</td>\n",
       "      <td>...</td>\n",
       "    </tr>\n",
       "    <tr>\n",
       "      <td>474</td>\n",
       "      <td>1595</td>\n",
       "      <td>6</td>\n",
       "    </tr>\n",
       "    <tr>\n",
       "      <td>475</td>\n",
       "      <td>1596</td>\n",
       "      <td>6</td>\n",
       "    </tr>\n",
       "    <tr>\n",
       "      <td>476</td>\n",
       "      <td>1597</td>\n",
       "      <td>6</td>\n",
       "    </tr>\n",
       "    <tr>\n",
       "      <td>477</td>\n",
       "      <td>1598</td>\n",
       "      <td>6</td>\n",
       "    </tr>\n",
       "    <tr>\n",
       "      <td>478</td>\n",
       "      <td>1599</td>\n",
       "      <td>6</td>\n",
       "    </tr>\n",
       "  </tbody>\n",
       "</table>\n",
       "<p>479 rows × 2 columns</p>\n",
       "</div>"
      ],
      "text/plain": [
       "       id  quality\n",
       "0    1121        6\n",
       "1    1122        7\n",
       "2    1123        7\n",
       "3    1124        6\n",
       "4    1125        7\n",
       "..    ...      ...\n",
       "474  1595        6\n",
       "475  1596        6\n",
       "476  1597        6\n",
       "477  1598        6\n",
       "478  1599        6\n",
       "\n",
       "[479 rows x 2 columns]"
      ]
     },
     "execution_count": 30,
     "metadata": {},
     "output_type": "execute_result"
    }
   ],
   "source": [
    "dtc_test = dtc.predict(test1)\n",
    "dtc_pred = pd.DataFrame(columns=[\"id\",'quality'])\n",
    "dtc_pred['id']= testIds\n",
    "dtc_pred['quality']= dtc_test\n",
    "dtc_pred"
   ]
  },
  {
   "cell_type": "code",
   "execution_count": 31,
   "metadata": {},
   "outputs": [
    {
     "data": {
      "text/html": [
       "<a href='dtc_final.csv' target='_blank'>dtc_final.csv</a><br>"
      ],
      "text/plain": [
       "D:\\learn\\Data Science\\project\\Final Capstone Project\\Predict the quality of Red Wine\\my-project\\dtc_final.csv"
      ]
     },
     "execution_count": 31,
     "metadata": {},
     "output_type": "execute_result"
    }
   ],
   "source": [
    "dtc_pred.to_csv('dtc_final.csv',index=False)\n",
    "from IPython.display import FileLink\n",
    "FileLink(r'dtc_final.csv')"
   ]
  },
  {
   "cell_type": "markdown",
   "metadata": {},
   "source": [
    "## Random Forest Implementation"
   ]
  },
  {
   "cell_type": "code",
   "execution_count": 32,
   "metadata": {},
   "outputs": [],
   "source": [
    "from sklearn.ensemble import RandomForestClassifier"
   ]
  },
  {
   "cell_type": "code",
   "execution_count": 55,
   "metadata": {},
   "outputs": [
    {
     "data": {
      "text/plain": [
       "RandomForestClassifier(bootstrap=True, class_weight='balanced',\n",
       "                       criterion='gini', max_depth=12, max_features='auto',\n",
       "                       max_leaf_nodes=None, min_impurity_decrease=0.0,\n",
       "                       min_impurity_split=None, min_samples_leaf=1,\n",
       "                       min_samples_split=2, min_weight_fraction_leaf=0.0,\n",
       "                       n_estimators=128, n_jobs=None, oob_score=False,\n",
       "                       random_state=101, verbose=0, warm_start=False)"
      ]
     },
     "execution_count": 55,
     "metadata": {},
     "output_type": "execute_result"
    }
   ],
   "source": [
    "# n_estimators = [1, 2, 4, 8, 16, 32, 64, 100, 200]\n",
    "# for estimator in n_estimators:\n",
    "\n",
    "rfc = RandomForestClassifier(n_estimators=128,max_depth=12, random_state=101,class_weight='balanced')\n",
    "rfc.fit(X_train,y_train)"
   ]
  },
  {
   "cell_type": "code",
   "execution_count": 56,
   "metadata": {},
   "outputs": [
    {
     "name": "stdout",
     "output_type": "stream",
     "text": [
      "F1 Score : 0.7701935291221007\n",
      "Report: \n",
      "               precision    recall  f1-score   support\n",
      "\n",
      "           3       0.00      0.00      0.00         2\n",
      "           4       0.00      0.00      0.00        10\n",
      "           5       0.77      0.89      0.82       142\n",
      "           6       0.72      0.75      0.73       127\n",
      "           7       0.79      0.57      0.66        53\n",
      "           8       0.00      0.00      0.00         2\n",
      "\n",
      "    accuracy                           0.75       336\n",
      "   macro avg       0.38      0.37      0.37       336\n",
      "weighted avg       0.72      0.75      0.73       336\n",
      "\n",
      "accuracyscore:  0.75\n"
     ]
    }
   ],
   "source": [
    "y_pred = rfc.predict(X_test)\n",
    "print(\"F1 Score :\",f1_score(y_pred,y_test,average = \"weighted\"))\n",
    "print('Report: \\n',classification_report(y_test, y_pred))\n",
    "print('accuracyscore: ',accuracy_score(y_test, y_pred))"
   ]
  },
  {
   "cell_type": "code",
   "execution_count": 35,
   "metadata": {},
   "outputs": [
    {
     "data": {
      "text/plain": [
       "array([[  0,   0,   1,   1,   0,   0],\n",
       "       [  0,   0,   7,   3,   0,   0],\n",
       "       [  0,   0, 125,  16,   1,   0],\n",
       "       [  0,   0,  25,  94,   8,   0],\n",
       "       [  0,   0,   3,  20,  30,   0],\n",
       "       [  0,   0,   0,   1,   1,   0]], dtype=int64)"
      ]
     },
     "execution_count": 35,
     "metadata": {},
     "output_type": "execute_result"
    }
   ],
   "source": [
    "confusion_matrix(y_test, y_pred)"
   ]
  },
  {
   "cell_type": "code",
   "execution_count": 36,
   "metadata": {},
   "outputs": [
    {
     "data": {
      "text/html": [
       "<div>\n",
       "<style scoped>\n",
       "    .dataframe tbody tr th:only-of-type {\n",
       "        vertical-align: middle;\n",
       "    }\n",
       "\n",
       "    .dataframe tbody tr th {\n",
       "        vertical-align: top;\n",
       "    }\n",
       "\n",
       "    .dataframe thead th {\n",
       "        text-align: right;\n",
       "    }\n",
       "</style>\n",
       "<table border=\"1\" class=\"dataframe\">\n",
       "  <thead>\n",
       "    <tr style=\"text-align: right;\">\n",
       "      <th></th>\n",
       "      <th>id</th>\n",
       "      <th>quality</th>\n",
       "    </tr>\n",
       "  </thead>\n",
       "  <tbody>\n",
       "    <tr>\n",
       "      <td>0</td>\n",
       "      <td>1121</td>\n",
       "      <td>6</td>\n",
       "    </tr>\n",
       "    <tr>\n",
       "      <td>1</td>\n",
       "      <td>1122</td>\n",
       "      <td>6</td>\n",
       "    </tr>\n",
       "    <tr>\n",
       "      <td>2</td>\n",
       "      <td>1123</td>\n",
       "      <td>6</td>\n",
       "    </tr>\n",
       "    <tr>\n",
       "      <td>3</td>\n",
       "      <td>1124</td>\n",
       "      <td>6</td>\n",
       "    </tr>\n",
       "    <tr>\n",
       "      <td>4</td>\n",
       "      <td>1125</td>\n",
       "      <td>6</td>\n",
       "    </tr>\n",
       "    <tr>\n",
       "      <td>...</td>\n",
       "      <td>...</td>\n",
       "      <td>...</td>\n",
       "    </tr>\n",
       "    <tr>\n",
       "      <td>474</td>\n",
       "      <td>1595</td>\n",
       "      <td>6</td>\n",
       "    </tr>\n",
       "    <tr>\n",
       "      <td>475</td>\n",
       "      <td>1596</td>\n",
       "      <td>5</td>\n",
       "    </tr>\n",
       "    <tr>\n",
       "      <td>476</td>\n",
       "      <td>1597</td>\n",
       "      <td>6</td>\n",
       "    </tr>\n",
       "    <tr>\n",
       "      <td>477</td>\n",
       "      <td>1598</td>\n",
       "      <td>5</td>\n",
       "    </tr>\n",
       "    <tr>\n",
       "      <td>478</td>\n",
       "      <td>1599</td>\n",
       "      <td>6</td>\n",
       "    </tr>\n",
       "  </tbody>\n",
       "</table>\n",
       "<p>479 rows × 2 columns</p>\n",
       "</div>"
      ],
      "text/plain": [
       "       id  quality\n",
       "0    1121        6\n",
       "1    1122        6\n",
       "2    1123        6\n",
       "3    1124        6\n",
       "4    1125        6\n",
       "..    ...      ...\n",
       "474  1595        6\n",
       "475  1596        5\n",
       "476  1597        6\n",
       "477  1598        5\n",
       "478  1599        6\n",
       "\n",
       "[479 rows x 2 columns]"
      ]
     },
     "execution_count": 36,
     "metadata": {},
     "output_type": "execute_result"
    }
   ],
   "source": [
    "rfc_test = rfc.predict(test1)\n",
    "rfc_pred = pd.DataFrame(columns=[\"id\",'quality'])\n",
    "rfc_pred['id']= testIds\n",
    "rfc_pred['quality']= rfc_test\n",
    "rfc_pred"
   ]
  },
  {
   "cell_type": "code",
   "execution_count": 37,
   "metadata": {},
   "outputs": [
    {
     "data": {
      "text/html": [
       "<div>\n",
       "<style scoped>\n",
       "    .dataframe tbody tr th:only-of-type {\n",
       "        vertical-align: middle;\n",
       "    }\n",
       "\n",
       "    .dataframe tbody tr th {\n",
       "        vertical-align: top;\n",
       "    }\n",
       "\n",
       "    .dataframe thead th {\n",
       "        text-align: right;\n",
       "    }\n",
       "</style>\n",
       "<table border=\"1\" class=\"dataframe\">\n",
       "  <thead>\n",
       "    <tr style=\"text-align: right;\">\n",
       "      <th></th>\n",
       "      <th>Quality</th>\n",
       "      <th>total_Frequency</th>\n",
       "    </tr>\n",
       "  </thead>\n",
       "  <tbody>\n",
       "    <tr>\n",
       "      <td>6</td>\n",
       "      <td>6</td>\n",
       "      <td>313</td>\n",
       "    </tr>\n",
       "    <tr>\n",
       "      <td>5</td>\n",
       "      <td>5</td>\n",
       "      <td>141</td>\n",
       "    </tr>\n",
       "    <tr>\n",
       "      <td>4</td>\n",
       "      <td>4</td>\n",
       "      <td>23</td>\n",
       "    </tr>\n",
       "    <tr>\n",
       "      <td>7</td>\n",
       "      <td>7</td>\n",
       "      <td>2</td>\n",
       "    </tr>\n",
       "  </tbody>\n",
       "</table>\n",
       "</div>"
      ],
      "text/plain": [
       "   Quality  total_Frequency\n",
       "6        6              313\n",
       "5        5              141\n",
       "4        4               23\n",
       "7        7                2"
      ]
     },
     "execution_count": 37,
     "metadata": {},
     "output_type": "execute_result"
    }
   ],
   "source": [
    "# after train\n",
    "rfc_qt_count = rfc_pred['quality'].value_counts()\n",
    "qt_counts = pd.DataFrame({'Quality': list(rfc_qt_count.index), 'total_Frequency': rfc_qt_count})\n",
    "qt_counts"
   ]
  },
  {
   "cell_type": "code",
   "execution_count": 38,
   "metadata": {},
   "outputs": [
    {
     "data": {
      "text/html": [
       "<a href='rfc_final.csv' target='_blank'>rfc_final.csv</a><br>"
      ],
      "text/plain": [
       "D:\\learn\\Data Science\\project\\Final Capstone Project\\Predict the quality of Red Wine\\my-project\\rfc_final.csv"
      ]
     },
     "execution_count": 38,
     "metadata": {},
     "output_type": "execute_result"
    }
   ],
   "source": [
    "rfc_pred.to_csv('rfc_final.csv',index=False)\n",
    "\n",
    "FileLink(r'rfc_final.csv')"
   ]
  },
  {
   "cell_type": "code",
   "execution_count": 39,
   "metadata": {},
   "outputs": [],
   "source": [
    "import pickle"
   ]
  },
  {
   "cell_type": "code",
   "execution_count": 40,
   "metadata": {},
   "outputs": [],
   "source": [
    "pickle.dump(rfc,open('model.pkl','wb'))"
   ]
  },
  {
   "cell_type": "code",
   "execution_count": 41,
   "metadata": {},
   "outputs": [],
   "source": [
    "model=pickle.load(open('model.pkl','rb'))"
   ]
  },
  {
   "cell_type": "code",
   "execution_count": 42,
   "metadata": {},
   "outputs": [
    {
     "data": {
      "text/plain": [
       "array([6], dtype=int64)"
      ]
     },
     "execution_count": 42,
     "metadata": {},
     "output_type": "execute_result"
    }
   ],
   "source": [
    "model.predict([[7.4,0.70,0.04,1.9,0.076,11.0,34,0.9,3.50,0.56,9.4]])"
   ]
  },
  {
   "cell_type": "code",
   "execution_count": null,
   "metadata": {},
   "outputs": [],
   "source": []
  }
 ],
 "metadata": {
  "kernelspec": {
   "display_name": "Python 3",
   "language": "python",
   "name": "python3"
  },
  "language_info": {
   "codemirror_mode": {
    "name": "ipython",
    "version": 3
   },
   "file_extension": ".py",
   "mimetype": "text/x-python",
   "name": "python",
   "nbconvert_exporter": "python",
   "pygments_lexer": "ipython3",
   "version": "3.7.4"
  }
 },
 "nbformat": 4,
 "nbformat_minor": 2
}
